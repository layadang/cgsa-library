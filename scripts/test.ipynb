{
 "cells": [
  {
   "cell_type": "code",
   "execution_count": 18,
   "metadata": {},
   "outputs": [
    {
     "data": {
      "text/plain": [
       "'Woman'"
      ]
     },
     "execution_count": 18,
     "metadata": {},
     "output_type": "execute_result"
    }
   ],
   "source": [
    "data = \"{'publishers': ['Anchor'], 'identifiers': {'librarything': ['5542'], 'goodreads': ['60885']}, 'subtitle': 'An Intimate Geography', 'covers': [242012], 'lc_classifications': ['QP38 .A54 2000'], 'latest_revision': 9, 'key': '/books/OL7440608M', 'authors': [{'key': '/authors/OL239499A'}], 'ocaid': 'woman00nata', 'languages': [{'key': '/languages/eng'}], 'source_records': ['marc:marc_loc_2016/BooksAll.2016.part28.utf8:14476380:979'], 'title': 'Woman', 'lccn': ['99047764'], 'number_of_pages': 464, 'created': {'type': '/type/datetime', 'value': '2008-04-29T13:35:46.876380'}, 'isbn_13': ['9780385498418'], 'isbn_10': ['0385498411'], 'publish_date': 'February 15, 2000', 'last_modified': {'type': '/type/datetime', 'value': '2020-12-01T14:13:53.950890'}, 'oclc_numbers': ['42454245'], 'works': [{'key': '/works/OL1989650W'}], 'type': {'key': '/type/edition'}, 'first_sentence': {'type': '/type/text', 'value': 'PUT A FEW ADULTS in a room with a sweet-tempered infant, and you may as well leave a tub of butter sitting out in the midday sun.'}, 'revision': 9}\"\n",
    "data = eval(data)\n",
    "\n",
    "# title = data.get('title', 'None')\n",
    "# print(title)\n",
    "\n",
    "# if 'title' in eval(data):\n",
    "#     print('hi')\n",
    "#     print(eval(data)['title'])\n",
    "# else:\n",
    "#     print('bye')\n",
    "\n",
    "data['title']\n"
   ]
  },
  {
   "cell_type": "code",
   "execution_count": 8,
   "metadata": {},
   "outputs": [],
   "source": [
    "import csv\n",
    "with open('../data/isbn-titles.csv', mode='a', newline='') as file:\n",
    "    writer = csv.writer(file)\n",
    "    writer.writerow(['23097823095327509325', 'blahblah'])"
   ]
  }
 ],
 "metadata": {
  "kernelspec": {
   "display_name": "venv",
   "language": "python",
   "name": "python3"
  },
  "language_info": {
   "codemirror_mode": {
    "name": "ipython",
    "version": 3
   },
   "file_extension": ".py",
   "mimetype": "text/x-python",
   "name": "python",
   "nbconvert_exporter": "python",
   "pygments_lexer": "ipython3",
   "version": "3.9.6"
  }
 },
 "nbformat": 4,
 "nbformat_minor": 2
}
