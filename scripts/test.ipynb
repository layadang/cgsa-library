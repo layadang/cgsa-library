{
 "cells": [
  {
   "cell_type": "code",
   "execution_count": 5,
   "metadata": {},
   "outputs": [
    {
     "name": "stdout",
     "output_type": "stream",
     "text": [
      "bye\n"
     ]
    }
   ],
   "source": [
    "data = \"{'type': {'key': '/type/edition'}, 'authors': [{'key': '/authors/OL30553A'}], 'languages': [{'key': '/languages/eng'}], 'pagination': '112', 'publish_date': '2011', 'publishers': ['HarperCollins Publishers Limited'], 'source_records': ['bwb:9780007420124', 'amazon:0007420129', 'promise:bwb_daily_pallets_2020-04-30'], 'subjects': ['Military art and science, early works to 1800'], 'weight': '0.086 ', 'full_title': 'Art of War', 'works': [{'key': '/works/OL21045850W'}], 'key': '/books/OL35470544M', 'covers': [12378908, -1], 'local_id': ['urn:bwbsku:O6-CHG-194'], 'identifiers': {}, 'isbn_13': ['9780007420124'], 'classifications': {}, 'latest_revision': 7, 'revision': 7, 'created': {'type': '/type/datetime', 'value': '2021-11-02T10:17:43.549820'}, 'last_modified': {'type': '/type/datetime', 'value': '2023-08-11T14:20:08.635534'}}\"\n",
    "\n",
    "if 'title' in eval(data):\n",
    "    print('hi')\n",
    "else:\n",
    "    print('bye')"
   ]
  }
 ],
 "metadata": {
  "kernelspec": {
   "display_name": "venv",
   "language": "python",
   "name": "python3"
  },
  "language_info": {
   "codemirror_mode": {
    "name": "ipython",
    "version": 3
   },
   "file_extension": ".py",
   "mimetype": "text/x-python",
   "name": "python",
   "nbconvert_exporter": "python",
   "pygments_lexer": "ipython3",
   "version": "3.9.6"
  }
 },
 "nbformat": 4,
 "nbformat_minor": 2
}
